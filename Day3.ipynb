{
 "cells": [
  {
   "cell_type": "markdown",
   "id": "efbfddb8-56f2-49c2-b447-687b33f293cb",
   "metadata": {},
   "source": [
    "*A note about specifying dependencies used in your Python scripts and modules:*\n",
    "<br><br>You can create a file called `requirements.txt` that lists all your dependencies, including package versions. This file allows users of your Python package to install/upgrade all required packages in one line on the command line. The list of project dependencies can also be created in one line of code.\n",
    "<br><br>Here's a good short description of the code needed (the video is behind a paywall, but the post below is free): https://realpython.com/lessons/using-requirement-files."
   ]
  },
  {
   "cell_type": "markdown",
   "id": "bf1444cd-3ede-4836-8941-8dad90133edc",
   "metadata": {},
   "source": [
    "# <br><br>Taking input from the command line"
   ]
  },
  {
   "cell_type": "markdown",
   "id": "a13a5142-163d-4b2f-be29-078e3fa05836",
   "metadata": {},
   "source": [
    "You can remove more hardcoding from your scripts by specifying filenames or other variables on the command line. This makes your scripts much more reusable.\n",
    "<br><br>There are two ways you can take input into your script from the command line: when you run the script or as the script is running."
   ]
  },
  {
   "cell_type": "markdown",
   "id": "df21b89f-8110-482f-a331-80703e34b092",
   "metadata": {},
   "source": [
    "## <br>Getting input when you run the script"
   ]
  },
  {
   "cell_type": "markdown",
   "id": "0de32ff2-2e32-4266-a1bd-c5d0150874a6",
   "metadata": {},
   "source": [
    "There are multiple packages in the Python standard library that will help you use arguments that get passed on the command line when you run the script. `argparse` is a useful tool for keeping track of these arguments. However, we're going to take a step back and work with `sys.argv`. (Tomorrow we're going to combine it with a useful tool to create easy parallelization, and on Friday we're going to use it to create pipelines.)\n",
    "<br><br>`sys.argv` is an object in the `sys` package (part of the standard library). It is a list of poistional arguments that you pass on the command line when you run a python script. You need to import `sys` to use it in your script."
   ]
  },
  {
   "cell_type": "markdown",
   "id": "e42d62f9-74ed-42ee-a7b6-89040633e7ef",
   "metadata": {},
   "source": [
    "On the command line, you would run:\n",
    "<br>`python myscript.py an_argument another_argument`"
   ]
  },
  {
   "cell_type": "markdown",
   "id": "dbd3f075-3245-40c7-9f6b-2bf4dc018eb8",
   "metadata": {},
   "source": [
    "Those arguments will then get pulled **into** your Python script for you to use in your code (like the movie Inception). The arguments can be filenames, variables, numbers, etc. but they will always get pulled in as strings."
   ]
  },
  {
   "cell_type": "markdown",
   "id": "6c7d35ff-ff25-442d-a8f7-890fc960de93",
   "metadata": {},
   "source": [
    "<br><br>**Let's take a look at the `argv.py` Python script and then run it on the command line with the arguments 1, 2, 3, and 4.**"
   ]
  },
  {
   "cell_type": "markdown",
   "id": "83d04c01-6c6a-409d-921b-197413289a13",
   "metadata": {},
   "source": [
    "<br><br><br>We gave 4 arguments, but the sys.argv list has a length of 5. When we printed each item in the list, we saw that the name of the script is included in the list of arguments. So anything after you call `python` (or `python3`) is included."
   ]
  },
  {
   "cell_type": "markdown",
   "id": "92fca873-7083-491f-8d6c-d0fe665d8b4d",
   "metadata": {},
   "source": [
    "<br><br>Because sys.argv is a list, we can index the individual items. The first item, other than the name of your script, is indexed as `sys.argv[1]`."
   ]
  },
  {
   "cell_type": "markdown",
   "id": "283a7ae6-4130-4aa1-8877-a894c2d00596",
   "metadata": {},
   "source": [
    "Let's look at another script: `argv2.py`. Notice that the docstring includes comments telling you exactly what the command line arguments should be."
   ]
  },
  {
   "cell_type": "markdown",
   "id": "cf0c281b-b953-4e45-a85e-028632c53cfb",
   "metadata": {},
   "source": [
    "### <br>Exercise 1"
   ]
  },
  {
   "cell_type": "markdown",
   "id": "764e7ddd-5d34-495a-8905-a53b016710c3",
   "metadata": {},
   "source": [
    "Run the argv2.py script on the command line with any string and any whole number. You can include spaces in your string if you put the string in quotes."
   ]
  },
  {
   "cell_type": "markdown",
   "id": "1dad1144-cbb7-448a-86ab-ed6bb161865c",
   "metadata": {},
   "source": [
    "### <br><br>Exercise 2"
   ]
  },
  {
   "cell_type": "markdown",
   "id": "bc968c38-4899-42fd-9b9e-a0fa9f5175ab",
   "metadata": {},
   "source": [
    "Open up the script we've been working with - `sortEmails4.py`. Save a new copy as sortEmailsArgv.py. Change the code to take the input and output filenames from the command line instead of having them hard coded in the script.\n",
    "<br><br>After you've changed the script, run it on the command line with the input file of `email_addresses.csv` and the output filename of `new_emails.csv`."
   ]
  },
  {
   "cell_type": "markdown",
   "id": "6e29bfc6-9eaa-453a-ba05-d963088e5d65",
   "metadata": {},
   "source": [
    "<br><br>Hopefully by now you can see how useful this is. In the email example, I can now sort any email address list I want. If I had 10,000 email address lists, I could now sort all of them with the same script (I would probably want to automate that - we'll talk about that tomorrow!). "
   ]
  },
  {
   "cell_type": "markdown",
   "id": "ef5bda45-c3b9-4e3e-b5ea-5163d23a7b30",
   "metadata": {},
   "source": [
    "## <br><br>Getting input while the script is running"
   ]
  },
  {
   "cell_type": "markdown",
   "id": "9dfc1906-82a0-44c1-9a7b-2a996b41115d",
   "metadata": {},
   "source": [
    "Another way to get user input is to set your script up to interact with the user while the script is running using the built-in `input()` function in Python.\n",
    "<br><br>When you take user input in this way, you can use a text prompt to ask for the correct input."
   ]
  },
  {
   "cell_type": "markdown",
   "id": "00cde5d0-331d-415e-827e-feff5db85f20",
   "metadata": {},
   "source": [
    "<br>There are a couple reasons why you might prefer to take input as the script is running:\n",
    "- There are too many arguments that need to get passed on the command line\n",
    "- Your end user might find it more familiar to respond to individual text prompts than to read the script docstring\n",
    "- The input you give might depend on some other result calculated in the script\n",
    "- You anticipate that the user will enter data in an incorrect format and you want to give them the chance to correct it without rerunning the script"
   ]
  },
  {
   "cell_type": "markdown",
   "id": "70f17578-3d5b-4f82-b6c6-46a3ad29a528",
   "metadata": {},
   "source": [
    "<br><br>Let's practice using `input()` in this notebook. The function will return the string that is given by the user, so you will need to assign the function to a variable to use that string. The function takes one argument, which is the text prompt printed to the screen."
   ]
  },
  {
   "cell_type": "code",
   "execution_count": null,
   "id": "338f35be-4b92-466c-9af1-df0f8d11b673",
   "metadata": {},
   "outputs": [],
   "source": [
    "name = input(\"Enter your name:\")"
   ]
  },
  {
   "cell_type": "code",
   "execution_count": null,
   "id": "fd6cb0b5-9702-436c-bb6d-4649476d3c56",
   "metadata": {},
   "outputs": [],
   "source": [
    "print(f\"Hello {name}!\")"
   ]
  },
  {
   "cell_type": "markdown",
   "id": "18529c0e-cfcd-4545-900d-2b071ce5a552",
   "metadata": {},
   "source": [
    "### <br><br>Exercise 3"
   ]
  },
  {
   "cell_type": "markdown",
   "id": "c5944613-ca14-48eb-aafe-76261a5a95f9",
   "metadata": {},
   "source": [
    "Open the script `sortEmails4.py` and save it as a new script called `sortEmailsInput.py`. Change the line of code that defines the `input_file` variable to collect that filename using the `input()` function. There is no need to anticipate any errors; just assume the user will enter a legitimate filepath. Test your script on the command line with the \"email_addresses.csv\" file."
   ]
  },
  {
   "cell_type": "markdown",
   "id": "358893e9-2df1-4b3a-9b1a-a148ce95f3b4",
   "metadata": {},
   "source": [
    "<br><br><br>Let's work through a slightly more complicated example:"
   ]
  },
  {
   "cell_type": "code",
   "execution_count": null,
   "id": "3a07c454-226d-4376-a716-fb414dc13de5",
   "metadata": {},
   "outputs": [],
   "source": [
    "choice = input(\"Should I continue?\")\n",
    "if choice == \"Yes\":\n",
    "    print(\"Ok, let's keep going.\")\n",
    "elif choice == \"No\":\n",
    "    print(\"Goodbye.\")\n",
    "else:\n",
    "    print(\"I don't understand.\")"
   ]
  },
  {
   "cell_type": "markdown",
   "id": "f9e20d4b-e831-4c23-82f5-8ef658fc38b0",
   "metadata": {},
   "source": [
    "<br>When using `input()`, you need to anticipate a lot of errors, since users can enter anything. A better version of the above example would give the user a more specific prompt and handle any capitalization differences:"
   ]
  },
  {
   "cell_type": "code",
   "execution_count": null,
   "id": "0d6ea98f-2a4c-4fee-8890-79d1098c08ae",
   "metadata": {},
   "outputs": [],
   "source": [
    "choice = input(\"Should I continue? Enter yes or no.\")\n",
    "if choice.lower() == \"yes\":\n",
    "    print(\"Ok, let's keep going.\")\n",
    "elif choice.lower() == \"no\":\n",
    "    print(\"Goodbye.\")\n",
    "else:\n",
    "    print(\"I don't understand.\")"
   ]
  },
  {
   "cell_type": "markdown",
   "id": "2994aea0-a6a8-4168-9ae5-848acd8cc7c9",
   "metadata": {},
   "source": [
    "<br>Another common technique to use with `input()` is a **while loop** that will keep prompting the user until they answer in a correct format:"
   ]
  },
  {
   "cell_type": "code",
   "execution_count": null,
   "id": "32db0d8a-f509-4989-b1f0-626790a7063d",
   "metadata": {},
   "outputs": [],
   "source": [
    "choice = \"x\"\n",
    "while choice.lower() not in [\"yes\", \"no\"]:\n",
    "    choice = input(\"Should I continue? Enter yes or no.\")\n",
    "if choice.lower() == \"yes\":\n",
    "    print(\"Ok, let's keep going.\")\n",
    "elif choice.lower() == \"no\":\n",
    "    print(\"Goodbye.\")"
   ]
  },
  {
   "cell_type": "markdown",
   "id": "5f4d529f-5508-49a1-8e8b-65c90420986e",
   "metadata": {},
   "source": [
    "<br>Using `input()` often requires you to apply some logic regarding the order of your code and the anticipation of errors."
   ]
  },
  {
   "cell_type": "markdown",
   "id": "d18a0742-c71b-4217-ab53-69ea46b9a364",
   "metadata": {},
   "source": [
    "### <br><br>Exercise 4"
   ]
  },
  {
   "cell_type": "markdown",
   "id": "1844240c-8e5e-4ee0-9bf5-53c03a7f12b0",
   "metadata": {},
   "source": [
    "On the command line, run the script `sortEmailsConfirm.py`. When asked to confirm the order, test out the following inputs: y, N, nonsense. Then, open up the script in your text editor and look at the code to see how the `input()` function was implemented."
   ]
  },
  {
   "cell_type": "markdown",
   "id": "23776ec2-da4a-4969-a7b1-c54db7713cf1",
   "metadata": {},
   "source": [
    "### <br><br>Exercise 5"
   ]
  },
  {
   "cell_type": "markdown",
   "id": "aa41e437-bd73-49f8-9fd1-1a545abe3985",
   "metadata": {},
   "source": [
    "There are other Python packages that will allow you to get more sophisticated user input from the command line. For example, I've used a function from the `tkinter` package that will open up a file browser while the script is running. Run the script `sortEmailsBrowser.py` on the command line and select the \"email_addresses.csv\" file from your computer."
   ]
  },
  {
   "cell_type": "markdown",
   "id": "e25f1d33-e641-4bff-90ab-d379640753ba",
   "metadata": {},
   "source": [
    "# <br><br>Running code while you work/sleep/live"
   ]
  },
  {
   "cell_type": "markdown",
   "id": "4f87fb2c-849d-4acd-b556-6ccadfd006da",
   "metadata": {},
   "source": [
    "As you start writing scripts and pipelines that automate more and more of your tasks, your code will start taking longer to run. Before you start setting a timer to wake up and move your mouse every 20 minutes so that your notebook doesn't break, take some easy steps to save you time and effort. \n",
    "<br><br>The first tip is obvious - move your code from a notebook to a script. Jupyter notebooks rely on multiple software programs (Jupyter, your web browser) that you don't have to worry about when you run a script, plus scripts are portable."
   ]
  },
  {
   "cell_type": "markdown",
   "id": "4316235d-8919-4562-adb5-edcda3ca7b12",
   "metadata": {},
   "source": [
    "#### <br>Use a server that has a scheduler/job submission software\n",
    "Quest and many other servers have job submission software to start your script and keep it running after you log off. If you use a server, you use zero memory on your own computer!"
   ]
  },
  {
   "cell_type": "markdown",
   "id": "b8b81035-cd58-43f0-9c1d-d7fa6898f052",
   "metadata": {},
   "source": [
    "#### <br>On your own computer\n",
    "Turn off the sleep mode on your computer. On some computers/operating system versions you will also have to turn off the battery saver option to prevent your computer from going to sleep. You can always turn the brightness on your monitor all the way down if your laptop monitor has to stay on whenever you're not in sleep mode. "
   ]
  },
  {
   "cell_type": "markdown",
   "id": "4e97657a-b7bd-4e3a-949c-40e42db344bc",
   "metadata": {},
   "source": [
    "If you are using a Mac or Linux machine or a Linux server without a scheduler, check out the program `screen`. `screen` allows you to create a new screen session from your terminal. You can run scripts in the screen and it will keep them running even if you get logged out of the server or if someone comes along and closes your Terminal. `screen` will also keep your code running while your computer is in sleep mode. `screen` comes with most Linux distributions, so you don't have to install it. I'll give a quick demo of how it works."
   ]
  },
  {
   "cell_type": "markdown",
   "id": "751015c9-7f0a-4fa7-bdc3-b3a3a0947dc8",
   "metadata": {},
   "source": [
    "## <br><br>For tomorrow:"
   ]
  },
  {
   "cell_type": "markdown",
   "id": "d1d000f1-8986-4172-9c09-e6bea48b4cb6",
   "metadata": {},
   "source": [
    "If you are using a Mac or a bash terminal on your computer, you will need to install GNU parallel. \n",
    "<br><br>On a Mac that has Anaconda, run the following line in your command line terminal:\n",
    "<br>`conda install -c conda-forge parallel`\n",
    "<br><br>Mac/Linux users can also install it with homebrew.\n",
    "<br><br>If you are using git-bash on a PC, you'll have to run the code found on this answer: https://stackoverflow.com/questions/52393850/how-to-install-gnu-parallel-on-windows-10-using-git-bash"
   ]
  },
  {
   "cell_type": "code",
   "execution_count": null,
   "id": "e2cb4607-1588-46fb-b608-a0a6ee1ce8c8",
   "metadata": {},
   "outputs": [],
   "source": []
  }
 ],
 "metadata": {
  "kernelspec": {
   "display_name": "Python 3",
   "language": "python",
   "name": "python3"
  },
  "language_info": {
   "codemirror_mode": {
    "name": "ipython",
    "version": 3
   },
   "file_extension": ".py",
   "mimetype": "text/x-python",
   "name": "python",
   "nbconvert_exporter": "python",
   "pygments_lexer": "ipython3",
   "version": "3.7.3"
  }
 },
 "nbformat": 4,
 "nbformat_minor": 5
}
