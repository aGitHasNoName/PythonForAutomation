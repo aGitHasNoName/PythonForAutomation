{
 "cells": [
  {
   "cell_type": "markdown",
   "metadata": {},
   "source": [
    "*If you are new to Jupyter notebooks, each gray cell is a piece of code. To run the code, click inside the gray cell and either click the triangle button up top, or press shift+return (or shift+enter) on your keyboard. If you are using Google Colab, shift+return should also work.*"
   ]
  },
  {
   "cell_type": "markdown",
   "metadata": {},
   "source": [
    "# <br><br>Using functions for automation"
   ]
  },
  {
   "cell_type": "markdown",
   "metadata": {},
   "source": [
    "First, let's review how to run a Python script from the command line.\n",
    "<br><br>Yesterday we wrote a notebook to sort email addresses by their domain names, according to an ordered list of preferred domain names.\n",
    "<br><br>I've turned the second version we wrote into a python script - sortEmails2.py. Let's take a look at it. Let's open it in a text editor:\n",
    "1. If you are using Jupyter Lab on your own computer, you can double click the script from the file tree on the left. Jupyter Lab has its own text editor.\n",
    "2. If you are using Google Colab online or Jupyter Notebook on your own computer, you will need to open the file in the text editor on your own computer:\n",
    "- On a PC: Notepad\n",
    "- On a Mac: TextEdit\n",
    "- Or another plain text editor of your choice"
   ]
  },
  {
   "cell_type": "markdown",
   "metadata": {},
   "source": [
    "### <br><br>Running a script on the command line\n",
    "\n",
    "1. Open up your command line shell. In Jupyter Lab, go to File>New>Terminal. You can also open Terminal on a Mac or Anaconda Prompt on a PC (or PowerShell)\n",
    "\n",
    "2. Navigate to the folder you downloaded for today's workshop. (Jupyter Lab should open up in the same folder you're working in now)\n",
    "\n",
    "3. Type `python sortEmails2.py`\n",
    "\n",
    "4. The script will create the file preferredEmails2.csv."
   ]
  },
  {
   "cell_type": "markdown",
   "metadata": {},
   "source": [
    "<br>As a reminder, a Python script is a plain text file that ends in .py. Scripts run from top to bottom."
   ]
  },
  {
   "cell_type": "markdown",
   "metadata": {},
   "source": [
    "### <br><br>Breaking up code into functions"
   ]
  },
  {
   "cell_type": "markdown",
   "metadata": {},
   "source": [
    "**Function** - a chunk of code that you give a name to\n",
    "<br><br>After you name the code, whenever you want to use it, you can call it by name instead of typing or copying and pasting the entire chunk of code.\n",
    "<br><br>This is called a **function definition**. While we will be looking at some function definitions, we won't be talking about the syntax of function definitions (that is covered in the Python Fundamentals Bootcamp or other intro level tutorials)."
   ]
  },
  {
   "cell_type": "markdown",
   "metadata": {},
   "source": [
    "<br>By default, scripts run code from top to bottom. Of course, when you **run** a function definition:"
   ]
  },
  {
   "cell_type": "code",
   "execution_count": 1,
   "metadata": {},
   "outputs": [],
   "source": [
    "def makeFancy(a_string):\n",
    "    new_list = a_string.upper().split()\n",
    "    new_string = \"**\".join(new_list)\n",
    "    return new_string"
   ]
  },
  {
   "cell_type": "markdown",
   "metadata": {},
   "source": [
    "...your computer only stores it in memory, ready to use it when it eventually gets called:"
   ]
  },
  {
   "cell_type": "code",
   "execution_count": 2,
   "metadata": {},
   "outputs": [
    {
     "data": {
      "text/plain": [
       "'TODAY**IS**TUESDAY.'"
      ]
     },
     "execution_count": 2,
     "metadata": {},
     "output_type": "execute_result"
    }
   ],
   "source": [
    "makeFancy(\"Today is Tuesday.\")"
   ]
  },
  {
   "cell_type": "markdown",
   "metadata": {},
   "source": [
    "<br><br>We're going to break up the sortEmails2.py script into functions to make it more readable. It might also be useful in other ways - let's see!"
   ]
  },
  {
   "cell_type": "markdown",
   "metadata": {},
   "source": [
    "To create functions, look for:\n",
    "- code that is repeated anywhere in the notebook\n",
    "- loops within loops within loops – can you pull out an inner loop and define it as a function?\n",
    "- a chunk of code that performs a clear task that you can name – \"remove headers\", \"create data dictionary\", \"calculate stat\", etc.\n",
    "- code that you might want to use in other scripts\n"
   ]
  },
  {
   "cell_type": "markdown",
   "metadata": {},
   "source": [
    "*Take a minute and look at the sortEmails2.py script. Do you see any code chunks that could be turned into functions?*"
   ]
  },
  {
   "cell_type": "markdown",
   "metadata": {},
   "source": [
    "#### <br><br>Defining a good function"
   ]
  },
  {
   "cell_type": "markdown",
   "metadata": {},
   "source": [
    "Here's one piece of code in the script that performs a clear task that would be easy to name:"
   ]
  },
  {
   "cell_type": "code",
   "execution_count": null,
   "metadata": {},
   "outputs": [],
   "source": [
    "noDups = []\n",
    "[noDups.append(item) for item in ordered_emails if item not in noDups]"
   ]
  },
  {
   "cell_type": "markdown",
   "metadata": {},
   "source": [
    "*Note that this code won't work here because it refers to a list called `ordered_emails` that is created elsewhere in the code.*"
   ]
  },
  {
   "cell_type": "markdown",
   "metadata": {},
   "source": [
    "<br>This code chunk removes duplicate email address from the `ordered_emails` list. Let's define it:"
   ]
  },
  {
   "cell_type": "code",
   "execution_count": null,
   "metadata": {},
   "outputs": [],
   "source": [
    "def removeDups(ordered_emails):\n",
    "    noDups = []\n",
    "    [noDups.append(item) for item in ordered_emails if item not in noDups]\n",
    "    return noDups"
   ]
  },
  {
   "cell_type": "markdown",
   "metadata": {},
   "source": [
    "In this example, I used the temporary argument name `ordered_emails` which matches how the code gets called in our script.\n",
    "<br><br>However, wouldn't this code remove duplicates in any list? It doesn't do anything specific to emails. Let's change that argument name:"
   ]
  },
  {
   "cell_type": "code",
   "execution_count": 1,
   "metadata": {},
   "outputs": [],
   "source": [
    "def removeDups(a_list):\n",
    "    noDups = []\n",
    "    [noDups.append(i) for i in a_list if i not in noDups]\n",
    "    return noDups"
   ]
  },
  {
   "cell_type": "markdown",
   "metadata": {},
   "source": [
    "Run the cell above and then let's call it on a sample list:"
   ]
  },
  {
   "cell_type": "code",
   "execution_count": 2,
   "metadata": {},
   "outputs": [
    {
     "name": "stdout",
     "output_type": "stream",
     "text": [
      "['a', 'b', 1, 2]\n"
     ]
    }
   ],
   "source": [
    "sample_list = [\"a\", \"b\", \"a\", 1, 2, 1]\n",
    "print(removeDups(sample_list))"
   ]
  },
  {
   "cell_type": "markdown",
   "metadata": {},
   "source": [
    "<br>Finally, add a good comment to the function to remind yourself what it does. We're going to use the **docstring** format of using triple quotes:"
   ]
  },
  {
   "cell_type": "code",
   "execution_count": null,
   "metadata": {},
   "outputs": [],
   "source": [
    "def removeDups(a_list):\n",
    "    '''removes duplicates from a list while keeping the order'''\n",
    "    noDups = []\n",
    "    [noDups.append(i) for i in a_list if i not in noDups]\n",
    "    return noDups"
   ]
  },
  {
   "cell_type": "markdown",
   "metadata": {},
   "source": [
    "<br><br>This function definition can now be added to our script. In the body of the script, instead of running the code, we will just call the new function with the correct list. First, though, let's talk about the body of the script."
   ]
  },
  {
   "cell_type": "markdown",
   "metadata": {},
   "source": [
    "#### <br><br>The `main()` function"
   ]
  },
  {
   "cell_type": "markdown",
   "metadata": {},
   "source": [
    "The body of the script should get defined in a function called `main()` that you call at the very end of the script. "
   ]
  },
  {
   "cell_type": "markdown",
   "metadata": {},
   "source": [
    "<br>Let's make these two changes in our sortEmails.py script. First, save a new copy of the script as sortEmailsMain.py. Then, we'll walk through the changes and run the new script on the command line."
   ]
  },
  {
   "cell_type": "markdown",
   "metadata": {},
   "source": [
    "### <br><br>Exercise: Defining more functions"
   ]
  },
  {
   "cell_type": "markdown",
   "metadata": {},
   "source": [
    "Take a look at the sortEmailsMain.py script. Can you see any other chunks of code that would be easy to name and define as functions?"
   ]
  },
  {
   "cell_type": "markdown",
   "metadata": {},
   "source": [
    "<br><br><br>How about the code that writes our dictionary to a csv file? Try to write a good function here that runs that code:"
   ]
  },
  {
   "cell_type": "code",
   "execution_count": null,
   "metadata": {},
   "outputs": [],
   "source": []
  },
  {
   "cell_type": "code",
   "execution_count": null,
   "metadata": {},
   "outputs": [],
   "source": []
  },
  {
   "cell_type": "code",
   "execution_count": null,
   "metadata": {},
   "outputs": [],
   "source": []
  },
  {
   "cell_type": "code",
   "execution_count": null,
   "metadata": {},
   "outputs": [],
   "source": []
  },
  {
   "cell_type": "markdown",
   "metadata": {},
   "source": [
    "If you finish your function, save a new version of the sortEmailsMain.py script called sortEmailsFunctions.py. Add your new function to the file and replace that code inside the `main()` function."
   ]
  },
  {
   "cell_type": "markdown",
   "metadata": {},
   "source": [
    "### <br><br>Saving and Using Your Own Functions"
   ]
  },
  {
   "cell_type": "markdown",
   "metadata": {},
   "source": [
    "If you have functions that you want to use in multiple scripts or notebooks, you can save them. Here are a few times when you might want to do that.\n",
    "<br><br>For reusability:\n",
    "- You wrote code to create custom visualizations\n",
    "- You frequently work with the same file type and you have code to clean it or to extract certain data from it\n",
    "- You have code to check a file or dataset for certain qualities before you use it\n",
    "- You coded equations or algorithms\n",
    "- You find yourself frequently doing the exact same thing"
   ]
  },
  {
   "cell_type": "markdown",
   "metadata": {},
   "source": [
    "For organization/presentation:\n",
    "- Your notebook is getting long and slow and messy and you want to clean it up by saving the function definitions in a different file\n",
    "- You want to use your notebook to display visualizations or other output to an advisor or colleague and they don't need to see all the code behind the scenes"
   ]
  },
  {
   "cell_type": "markdown",
   "metadata": {},
   "source": [
    "<br><br>Functions can be saved in a Python script. We've already saved a function in the sortEmailsMain.py script. Some of you may have also saved another function in the sortEmailsFunctions.py script. \n",
    "<br><br>In order to be able to use a Python script as a module from which we can import individual functions, we have to add one line of code at the end. Instead of just calling the `main()` function, we call it like this:"
   ]
  },
  {
   "cell_type": "code",
   "execution_count": null,
   "metadata": {},
   "outputs": [],
   "source": [
    "if __name__ == \"__main__\":\n",
    "    main()"
   ]
  },
  {
   "cell_type": "markdown",
   "metadata": {},
   "source": [
    "<br>When we use two underscores on either side of a Python command, it is called a **dunder** variable. "
   ]
  },
  {
   "cell_type": "markdown",
   "metadata": {},
   "source": [
    "<br>I've already added this line to a new version of the sortEmails.py script called sortEmails4.py. Let's take a look at it."
   ]
  },
  {
   "cell_type": "markdown",
   "metadata": {},
   "source": [
    "Because it has that special line at the end, if we run the script from the command line, it will run from top to bottom as planned, AND we can also import individual functions from the script into another notebook or script."
   ]
  },
  {
   "cell_type": "markdown",
   "metadata": {},
   "source": [
    "### <br><br>Loading custom functions into a notebook"
   ]
  },
  {
   "cell_type": "markdown",
   "metadata": {},
   "source": [
    "We can import the `removeDups()` function from the sortEmails4.py script:"
   ]
  },
  {
   "cell_type": "code",
   "execution_count": 3,
   "metadata": {},
   "outputs": [],
   "source": [
    "from sortEmails4 import removeDups"
   ]
  },
  {
   "cell_type": "code",
   "execution_count": 4,
   "metadata": {},
   "outputs": [
    {
     "name": "stdout",
     "output_type": "stream",
     "text": [
      "['c', 4, 5, 'd']\n"
     ]
    }
   ],
   "source": [
    "sample_list = [\"c\", \"c\", 4, 5, 5, \"d\"]\n",
    "print(removeDups(sample_list))"
   ]
  },
  {
   "cell_type": "markdown",
   "metadata": {},
   "source": [
    "### <br><br>BONUS: Saving functions as modules"
   ]
  },
  {
   "cell_type": "markdown",
   "metadata": {},
   "source": [
    "**If you are using Google Colab, first run the code cell below. DO NOT run this cell if you are not using Google Colab.**"
   ]
  },
  {
   "cell_type": "code",
   "execution_count": null,
   "metadata": {},
   "outputs": [],
   "source": [
    "!wget https://raw.githubusercontent.com/aGitHasNoName/savingFunctions/main/sentences.py"
   ]
  },
  {
   "cell_type": "markdown",
   "metadata": {},
   "source": [
    "<br><br>When your script only contains functions for importing into other scripts and notebooks, you can refer to it as a **module**!"
   ]
  },
  {
   "cell_type": "markdown",
   "metadata": {},
   "source": [
    "Let's take a look at a Python script with functions we can import. Open the script \"sentences.py\" in your text editor."
   ]
  },
  {
   "cell_type": "markdown",
   "metadata": {},
   "source": [
    "<br>Let's use the functions in the *sentences* module.\n",
    "<br>We can import the whole package:"
   ]
  },
  {
   "cell_type": "code",
   "execution_count": 5,
   "metadata": {},
   "outputs": [],
   "source": [
    "import sentences"
   ]
  },
  {
   "cell_type": "markdown",
   "metadata": {},
   "source": [
    "To see what functions are available in an imported package, we can use the dir() command:"
   ]
  },
  {
   "cell_type": "code",
   "execution_count": 6,
   "metadata": {},
   "outputs": [
    {
     "data": {
      "text/plain": [
       "['__builtins__',\n",
       " '__cached__',\n",
       " '__doc__',\n",
       " '__file__',\n",
       " '__loader__',\n",
       " '__name__',\n",
       " '__package__',\n",
       " '__spec__',\n",
       " 'mean',\n",
       " 'median',\n",
       " 'printMean',\n",
       " 'printMedian',\n",
       " 'printSum']"
      ]
     },
     "execution_count": 6,
     "metadata": {},
     "output_type": "execute_result"
    }
   ],
   "source": [
    "dir(sentences)"
   ]
  },
  {
   "cell_type": "markdown",
   "metadata": {},
   "source": [
    "Notice that the functions we imported from statistics - mean and median - are also available to us through the new script. Always be careful with naming your functions so that they don't duplicate other functions you're calling.\n",
    "<br><br>It is still best to use the mean and median functions directly from their own package; you don't want to start relying on functions included in scripts included in other scripts included in other scripts... Professional packages will resolve these dependency redundancies."
   ]
  },
  {
   "cell_type": "markdown",
   "metadata": {},
   "source": [
    "<br>Let's try out our imported custom functions:"
   ]
  },
  {
   "cell_type": "code",
   "execution_count": 7,
   "metadata": {},
   "outputs": [],
   "source": [
    "num_list = [84, 89, 90, 55, 68, 83, 90, 92, 85]"
   ]
  },
  {
   "cell_type": "code",
   "execution_count": 8,
   "metadata": {},
   "outputs": [
    {
     "data": {
      "text/plain": [
       "'The mean of the numbers provided is 81.78.'"
      ]
     },
     "execution_count": 8,
     "metadata": {},
     "output_type": "execute_result"
    }
   ],
   "source": [
    "sentences.printMean(num_list)"
   ]
  },
  {
   "cell_type": "markdown",
   "metadata": {},
   "source": [
    "<br>**Exercise.** Run printMedian on the num_list:"
   ]
  },
  {
   "cell_type": "code",
   "execution_count": 9,
   "metadata": {},
   "outputs": [
    {
     "data": {
      "text/plain": [
       "'The median of the numbers provided is 85.'"
      ]
     },
     "execution_count": 9,
     "metadata": {},
     "output_type": "execute_result"
    }
   ],
   "source": [
    "sentences.printMedian(num_list)"
   ]
  },
  {
   "cell_type": "markdown",
   "metadata": {},
   "source": [
    "<br><br>You can also import only a single function from a script:"
   ]
  },
  {
   "cell_type": "code",
   "execution_count": 10,
   "metadata": {},
   "outputs": [],
   "source": [
    "from sentences import printSum"
   ]
  },
  {
   "cell_type": "code",
   "execution_count": 11,
   "metadata": {},
   "outputs": [
    {
     "data": {
      "text/plain": [
       "'The sum of the numbers provided is 736.'"
      ]
     },
     "execution_count": 11,
     "metadata": {},
     "output_type": "execute_result"
    }
   ],
   "source": [
    "printSum(num_list)"
   ]
  },
  {
   "cell_type": "markdown",
   "metadata": {},
   "source": [
    "<br>If you ever forget which arguments are required from a function, you can use ?:"
   ]
  },
  {
   "cell_type": "code",
   "execution_count": 12,
   "metadata": {},
   "outputs": [
    {
     "data": {
      "text/plain": [
       "\u001b[0;31mSignature:\u001b[0m \u001b[0mprintSum\u001b[0m\u001b[0;34m(\u001b[0m\u001b[0ma_list\u001b[0m\u001b[0;34m)\u001b[0m\u001b[0;34m\u001b[0m\u001b[0;34m\u001b[0m\u001b[0m\n",
       "\u001b[0;31mDocstring:\u001b[0m Returns the sum of a list in a complete sentence.\n",
       "\u001b[0;31mFile:\u001b[0m      ~/Documents/workshops/PythonForAutomation/sentences.py\n",
       "\u001b[0;31mType:\u001b[0m      function\n"
      ]
     },
     "metadata": {},
     "output_type": "display_data"
    }
   ],
   "source": [
    "printSum?"
   ]
  },
  {
   "cell_type": "markdown",
   "metadata": {},
   "source": [
    "This shows why it is important to name arguments logically and include a good docstring."
   ]
  },
  {
   "cell_type": "markdown",
   "metadata": {},
   "source": [
    "### <br>Exercise. Write your own script with functions."
   ]
  },
  {
   "cell_type": "markdown",
   "metadata": {},
   "source": [
    "1. Open up a new empty plain text file in your text editor.\n",
    "2. Save the file as \"moreSentences.py\". If you're using Jupyter on your own computer, save it in the same location as sentences.py. If you're using Google Colab, save it somewhere you can find it.\n",
    "3. Import the mode function from the statistics package at the top of your script.\n",
    "4. Include the three new function definitions listed below.\n",
    "5. Add informative docstrings to all three functions.\n",
    "6. Include the \"if name equals main\" code at the end.\n",
    "7. It's ok to copy/paste from and look at sentences.py for guidance.\n",
    "8. Save your work!"
   ]
  },
  {
   "cell_type": "markdown",
   "metadata": {},
   "source": [
    "    def printMode(a_list):\n",
    "        m = mode(a_list)\n",
    "        return f\"The mode of the numbers provided is {m}.\"\n",
    "        \n",
    "    def printMax(a_list):\n",
    "        m = max(a_list)\n",
    "        return f\"The max of the numbers provided is {m}.\"\n",
    "        \n",
    "    def printMin(a_list):\n",
    "        m = min(a_list)\n",
    "        return f\"The min of the numbers provided is {m}.\""
   ]
  },
  {
   "cell_type": "markdown",
   "metadata": {},
   "source": [
    "<br><br>If you are using Google Colab, you will now need to **upload** your script into your Colab workspace. On the left, you should see some icons. Click on the file icon. Once the file tree appears, click on the upload icon, which look like a piece of paper with an arrow pointing up. Choose the file moreSentences.py from your computer."
   ]
  },
  {
   "cell_type": "markdown",
   "metadata": {},
   "source": [
    "### <br><br>Exercise\n",
    "Write code to import your new custom module into your notebook:"
   ]
  },
  {
   "cell_type": "code",
   "execution_count": 14,
   "metadata": {},
   "outputs": [],
   "source": []
  },
  {
   "cell_type": "markdown",
   "metadata": {},
   "source": [
    "Use the dir() function to see what your module contains:"
   ]
  },
  {
   "cell_type": "code",
   "execution_count": null,
   "metadata": {},
   "outputs": [],
   "source": []
  },
  {
   "cell_type": "markdown",
   "metadata": {},
   "source": [
    "Test out your functions on the num_list:"
   ]
  },
  {
   "cell_type": "code",
   "execution_count": null,
   "metadata": {},
   "outputs": [],
   "source": []
  },
  {
   "cell_type": "code",
   "execution_count": null,
   "metadata": {},
   "outputs": [],
   "source": []
  },
  {
   "cell_type": "code",
   "execution_count": null,
   "metadata": {},
   "outputs": [],
   "source": []
  },
  {
   "cell_type": "code",
   "execution_count": null,
   "metadata": {},
   "outputs": [],
   "source": []
  },
  {
   "cell_type": "markdown",
   "metadata": {},
   "source": [
    "### <br><br>Where to save your custom modules"
   ]
  },
  {
   "cell_type": "markdown",
   "metadata": {},
   "source": [
    "For now, it is perfectly okay to keep your functions in the main folder for your project, like we're doing here - the notebook and modules are saved in the same directory."
   ]
  },
  {
   "cell_type": "markdown",
   "metadata": {},
   "source": [
    "If you want to create a subfolder for storing your modules, you can, with a couple tweaks. Once you have a folder containing multiple modules (scripts), you officially have a **package**. You will have to add a special file to the package folder in order to import modules from inside it. The file must be saved as \"\\_\\_init__.py\" (it's a dunder, so double underscores on either side). The file can be empty!"
   ]
  },
  {
   "cell_type": "markdown",
   "metadata": {},
   "source": [
    "If you create the init file, you can import modules from your subfolder like this: "
   ]
  },
  {
   "cell_type": "markdown",
   "metadata": {},
   "source": [
    "    import folder.script\n",
    "    \n",
    "    from folder.script import function"
   ]
  },
  {
   "cell_type": "markdown",
   "metadata": {},
   "source": [
    "You can also keep a main folder outside of your project directory to hold all your packages and modules. For more info on how to set up custom packages on your computer and call them from anywhere, go to: https://python-102.readthedocs.io/en/latest/packaging.html#packages\n"
   ]
  },
  {
   "cell_type": "code",
   "execution_count": null,
   "metadata": {},
   "outputs": [],
   "source": []
  }
 ],
 "metadata": {
  "kernelspec": {
   "display_name": "Python 3",
   "language": "python",
   "name": "python3"
  },
  "language_info": {
   "codemirror_mode": {
    "name": "ipython",
    "version": 3
   },
   "file_extension": ".py",
   "mimetype": "text/x-python",
   "name": "python",
   "nbconvert_exporter": "python",
   "pygments_lexer": "ipython3",
   "version": "3.7.3"
  }
 },
 "nbformat": 4,
 "nbformat_minor": 4
}
