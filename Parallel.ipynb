{
 "cells": [
  {
   "cell_type": "markdown",
   "id": "e17c6dc9-d467-448f-bcf5-0cfc0694cb60",
   "metadata": {},
   "source": [
    "### If you want to try installing GNU parallel\n",
    "<br>On a Mac that has Anaconda, and on a PC through WSL that has Anaconda, run the following line in your command line terminal:\n",
    "<br>`conda install -c conda-forge parallel`\n",
    "<br><br>Mac/Linux users can also install it with homebrew, if you are familiar.\n",
    "<br><br>If you are using GitBash on a PC, you'll have to run the code found on this answer: https://stackoverflow.com/questions/52393850/how-to-install-gnu-parallel-on-windows-10-using-git-bash\n",
    " \n",
    "<br><br>You can test your installation or GNU parallel by running this line of code:\n",
    "<br>`parallel echo {} ::: 4`\n",
    "<br>This should return “4” and not an error."
   ]
  },
  {
   "cell_type": "markdown",
   "id": "0cd15580-36c7-4e7a-9c97-44bf1190695f",
   "metadata": {},
   "source": [
    "<br><br>To run on **Quest**, log into Quest as you usually would.\n",
    "\n",
    "Once you are running on Quest, run the following commands to load the required packages and files:\n",
    "<br>`module load python/anaconda3`\n",
    "<br>`module load parallel`\n",
    "<br>`wget https://raw.githubusercontent.com/aGitHasNoName/PythonForAutomation/main/questFiles.txt`\n",
    "<br>`parallel wget {} :::: questFiles.txt`\n",
    "<br>*That's right, we're using GNU parallel to help us automate loading files to Quest!*"
   ]
  },
  {
   "cell_type": "markdown",
   "id": "775888e6-4afa-4c5e-99da-41c11a127591",
   "metadata": {},
   "source": [
    "# <br><br>GNU parallel for automating Python code"
   ]
  },
  {
   "cell_type": "markdown",
   "id": "16e0bb4d-1709-4f75-8247-0263e63efce5",
   "metadata": {},
   "source": [
    "We're going to see how GNU parallel combined with what we learned earlier about sys.argv can save us time."
   ]
  },
  {
   "cell_type": "markdown",
   "id": "b4473a7b-a3bf-4582-8773-ae50fa9a1a3a",
   "metadata": {},
   "source": [
    "## <br><br>Parallel computing (very briefly)"
   ]
  },
  {
   "cell_type": "markdown",
   "id": "ce9f778e-8542-42ca-a72f-ef9dc545c2b3",
   "metadata": {},
   "source": [
    "**Node:** A single computer\n",
    "<br><br>**Core:** A single processing unit on a computer\n",
    "<br><br>**Task or process:** A single thing that you're asking the computer to do at one time\n",
    "<br><br>There are different ways to parallelize your computing needs. There are two main distinctions.\n",
    "<br><br>First, do you have multiple unique tasks that don't need to talk to each other (get information/data from) at all? Or do you have a set of more complicated tasks that rely on information from other tasks?\n",
    "<br><br>If you have multiple unique tasks that don't need to communicate, then you need what is sometimes referred to as ***embarassingly parallel*** computing (as in embarassingly easy).\n",
    "<br><br>If your tasks need to communicate, there is a second distinction: Can the total job be performed on one node (with multiple cores)? Or is the job too big and complicated for one node?\n",
    "<br><br>If you can use one node, it is easier to do, as cores on the same node can talk to each other easily (*shared memory*). If you need multiple nodes (*distributed memory*), you usually need to use a specialty language (MPI or OpenMPI) to give the computers instructions on how and when to pass messages.\n"
   ]
  },
  {
   "cell_type": "markdown",
   "id": "e5d0227f-e638-46b9-92d2-d4448daad0c2",
   "metadata": {},
   "source": [
    "<br><br>**GNU parallel** is going to allow us to do embarassingly parallel tasks. \n",
    "<br><br>We start with a Python script that performs a task on one piece of data, then we use `parallel` to instruct the computer to run the script over many pieces of data (many tasks). \n",
    "<br><br>**This does not work if order matters. The tasks do not talk to each other.**\n",
    "<br><br>GNU parallel appoints the correct amount of memory on a core to complete a single task and runs as many tasks at one time as you have memory available on your computer. Alternatively, you can give it a maximum number of tasks (jobs) to run at one time.\n",
    "<br><br>This will go much quicker than if you simply set up a `for loop` in Python to loop through all of the pieces of data, as a `for loop` will only run a single task at once.\n",
    "<br><br>When I say that we write a script that performs a task on one piece of data, the one piece of data can actually combine multiple inputs (for example, both an input filename and an output filename).\n",
    "<br><br>There are lots of things you can do with GNU parallel, but we are going to go over the most common tasks. To learn more, check out the official tutorial: https://www.gnu.org/software/parallel/parallel_tutorial.html\n",
    "<br><br>Let's just see how it works!"
   ]
  },
  {
   "cell_type": "markdown",
   "id": "bcc7e974-854f-43e7-9956-7b0243a28692",
   "metadata": {},
   "source": [
    "### <br><br>Simplest `parallel` example\n",
    "Open up the `add100.py` script. You can see that it takes one argument from the command line (a number) and then prints the sum of that number and 100. Run the script on the command line with the command line argument `1`."
   ]
  },
  {
   "cell_type": "markdown",
   "id": "eb2a2846-437e-4da2-a2e3-923433a7c17e",
   "metadata": {},
   "source": [
    "<br>What if we wanted to run the script on three numbers: `1`, `2`, and `3`?\n",
    "<br><br>With GNU parallel, we can type:\n",
    "<br>`parallel python add100.py {} ::: 1 2 3`\n",
    "<br><br>Try it! \n",
    "<br><br>Your computer might return the numbers in a different order than how you passed them on the command line - this is because each process is completely independent and will be run on a different piece of memory (some pieces of memory might be a tiny bit faster than others on your computer)"
   ]
  },
  {
   "cell_type": "markdown",
   "id": "ddc07a44-dd01-4339-be23-8bfa88670fd5",
   "metadata": {},
   "source": [
    "#### <br><br>`parallel` syntax\n",
    "`parallel python add100.py {} ::: 1 2 3`\n",
    "<br><br>It starts with the command `parallel`, followed by our regular Python command.\n",
    "<br><br>Just like how we used `sys.argv[1]` in our Python script to bring in data from the command line, we use `{}` to hold the place in our Python command of where our argument will go.\n",
    "<br><br>We use a series of three colons `:::` as a divider between the Python command and our data that we want to pull into the `{}` spot."
   ]
  },
  {
   "cell_type": "markdown",
   "id": "40bfdb40-b940-4b68-b247-adbeca5460ea",
   "metadata": {},
   "source": [
    "### <br><br>Exercise 1"
   ]
  },
  {
   "cell_type": "markdown",
   "id": "79777450-f344-4867-88e3-03b688725ba0",
   "metadata": {},
   "source": [
    "*If you are not able to work with GNU parallel today, that's ok! Instead of running the code, just write it out on a piece of paper, in text document, or even here in the notebook. Then you can check it against my code when I go over the answer.*"
   ]
  },
  {
   "cell_type": "markdown",
   "id": "d9c0b806-ab1e-4508-a598-417974661667",
   "metadata": {},
   "source": [
    "Open up and review the `argv2.py` script that we worked with earlier. It takes a string and a number from the command line.\n",
    "1. Run the argv2.py script on the command line (without using parallel) with the string \"pineapple\" and the number 10.\n",
    "2. Run the argv2.py script on the command line using parallel. Still use the string \"pineapple\", but run it with the numbers 1, 2, and 3.\n",
    "3. Run the argv2.py script on the command line using parallel. Use the strings \"pineapple\", \"lemon\", and \"tangerine\", and run it with the number 10."
   ]
  },
  {
   "cell_type": "markdown",
   "id": "94874386-e6bb-4012-8f0c-f117798990d0",
   "metadata": {},
   "source": [
    "### <br><br>`parallel` with multiple arguments"
   ]
  },
  {
   "cell_type": "markdown",
   "id": "30481352-1df5-4cdf-8199-59cf5b6b1613",
   "metadata": {},
   "source": [
    "We can also replace multiple command line arguments. The `argv2.py` script that we just used takes two arguments. Let's say we want to run the script with \"pineapple\", \"lemon\", and \"tangerine\", and run it with the numbers 1, 2, and 3.\n",
    "<br><br>This could mean two things:\n",
    "1. We could want **all possible combinations** of words and numbers: pineapple, pineapplepineapple, pineapplepineapplepineapple, lemon, lemonlemon, lemonlemonlemon, tangerine, tangerinetangerine, tangerinetangerinetangerine\n",
    "2. We could want to **link** each word with the corresponding number: pineapple, lemonlemon, tangerinetangerinetangerine"
   ]
  },
  {
   "cell_type": "markdown",
   "id": "6d4022ed-670e-4768-82bf-77479db7aa57",
   "metadata": {},
   "source": [
    "#### <br>All possible combinations\n",
    "To get all combinations, we use this syntax:\n",
    "<br>`parallel python argv2.py {} {} ::: pineapple lemon tangerine ::: 1 2 3`"
   ]
  },
  {
   "cell_type": "markdown",
   "id": "201db1aa-3354-4104-b9e4-fbab6615782a",
   "metadata": {},
   "source": [
    "### <br><br>Exercise 2"
   ]
  },
  {
   "cell_type": "markdown",
   "id": "890b2565-bf2b-4a8c-806f-a6cc8b9c2e88",
   "metadata": {},
   "source": [
    "Run the argv2.py script in parallel with every combination of the words \"robin\" and \"sparrow\" and the numbers 1, 2, 3, 4, and 5."
   ]
  },
  {
   "cell_type": "markdown",
   "id": "9b127375-7e9f-4aa0-97a6-d4f23e12d51a",
   "metadata": {},
   "source": [
    "#### <br><br>Linking the arguments\n",
    "***To link an argument to the one before it***, we add a `+` sign after the three colons. \n",
    "<br>`parallel python argv2.py {} {} ::: pineapple lemon tangerine :::+ 1 2 3`"
   ]
  },
  {
   "cell_type": "markdown",
   "id": "5dcfce41-b4ff-4cbd-9997-1005f0386cd0",
   "metadata": {},
   "source": [
    "### <br><br>Exercise 3"
   ]
  },
  {
   "cell_type": "markdown",
   "id": "e1adf2b2-5921-403c-9ea7-b8f3971e780e",
   "metadata": {},
   "source": [
    "Run the argv2.py script in parallel to print out:\n",
    "<br>one\n",
    "<br>twotwo\n",
    "<br>threethreethree"
   ]
  },
  {
   "cell_type": "markdown",
   "id": "a6a2bf94-78b3-4184-8968-16c15fecc9cf",
   "metadata": {},
   "source": [
    "### <br><br>`parallel` with data from a file\n",
    "Those examples work when you only need to parallelize a couple options for each argument. When you want to run a script over 10s, 100s, or 1,000s of data points, **you can put the arguments in a text document (.txt) with each argument on its own line.**"
   ]
  },
  {
   "cell_type": "markdown",
   "id": "238fbab1-2b52-4867-bc29-43cf920ed8b1",
   "metadata": {},
   "source": [
    "<br>Open up and look at the two text documents `words.txt` and `numbers.txt`. Let's run our script on every combination of these arguments.\n",
    "<br><br>**To use parallel with a .txt file of arguments, we make one change to our code - we use four colons `::::` instead of three:**\n",
    "<br>`parallel python argv2.py {} {} :::: words.txt :::: numbers.txt`"
   ]
  },
  {
   "cell_type": "markdown",
   "id": "1d7d4eb8-189f-4aaa-bec7-42ed1d8ed489",
   "metadata": {},
   "source": [
    "### <br><br>Exercise 4\n",
    "**Try and guess the output of each of these examples before running them:**\n",
    "<br><br>We can combine the four colon and three colon commands:\n",
    "<br>`parallel python argv2.py {} {} :::: words.txt ::: 1 2`\n",
    "<br><br>And we can also link arguments from files:\n",
    "<br>`parallel python argv2.py {} {} :::: words.txt ::::+ numbers.txt`"
   ]
  },
  {
   "cell_type": "markdown",
   "id": "b916fc48-5bd3-49e2-9317-83400dc8b113",
   "metadata": {},
   "source": [
    "### <br><br>A more practical example"
   ]
  },
  {
   "cell_type": "markdown",
   "id": "0997dbf3-e6f5-4aff-a1a2-98e25050b755",
   "metadata": {},
   "source": [
    "Let's return to the email address sorting script. Open up `sortEmailsArguments.py`. This version of our script takes the input file and output file names on the command line. \n",
    "<br><br>So far, we've only run the script on one file at a time. Let's run it on three files in parallel. I've saved a list of all the files in a .txt document called `email_files.txt`.\n",
    "<br><br>For the output filenames, I've save a second list called `email_output_files.txt`."
   ]
  },
  {
   "cell_type": "markdown",
   "id": "370f597a-0406-46a0-9fd2-90ecd81551ad",
   "metadata": {},
   "source": [
    "### <br><br>Exercise 5"
   ]
  },
  {
   "cell_type": "markdown",
   "id": "1f80077d-7f60-4109-a4b0-ab5422f6d598",
   "metadata": {},
   "source": [
    "Run the `sortEmailsArguments.py` script on every input file listed in the `email_files.txt` document. Link the output to the filenames in the `email_output_files.txt` document."
   ]
  },
  {
   "cell_type": "markdown",
   "id": "a92bcd7a-a907-4d38-9d2f-b150fb075cf9",
   "metadata": {},
   "source": [
    "#### <br><br>The next notebook we're going to work in is Pipe.ipynb."
   ]
  },
  {
   "cell_type": "code",
   "execution_count": null,
   "id": "507d6f8f-feef-482c-8db5-87a19ee77065",
   "metadata": {},
   "outputs": [],
   "source": []
  }
 ],
 "metadata": {
  "kernelspec": {
   "display_name": "Python 3",
   "language": "python",
   "name": "python3"
  },
  "language_info": {
   "codemirror_mode": {
    "name": "ipython",
    "version": 3
   },
   "file_extension": ".py",
   "mimetype": "text/x-python",
   "name": "python",
   "nbconvert_exporter": "python",
   "pygments_lexer": "ipython3",
   "version": "3.8.2"
  }
 },
 "nbformat": 4,
 "nbformat_minor": 5
}
