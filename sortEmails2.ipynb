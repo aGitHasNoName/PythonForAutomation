{
 "cells": [
  {
   "cell_type": "markdown",
   "id": "38226a6c-676e-4da6-9b83-748418ae07d5",
   "metadata": {},
   "source": [
    "#### *If you are running this notebook on Google Colab ONLY, run the next cell:*"
   ]
  },
  {
   "cell_type": "code",
   "execution_count": null,
   "id": "45588eca-3318-4f6c-abbf-1542457aa36d",
   "metadata": {},
   "outputs": [],
   "source": [
    "!wget https://raw.githubusercontent.com/aGitHasNoName/PythonForAutomation/main/email_addresses.csv"
   ]
  },
  {
   "cell_type": "markdown",
   "id": "5971b97f-c37b-4887-a525-f5788367ea50",
   "metadata": {},
   "source": [
    "### <br><br><br>sortEmails2 notebook\n",
    "\n",
    "This notebook takes a csv file with names in the first column, and email addresses in the remaining columns.\n",
    "\n",
    "Each person has at least one email address. Many have more than one. The email addresses are not ordered.\n",
    "\n",
    "This notebook orders the email addresses by the priority 1. any email address containing \"northwestern.edu\", 2. address containing \"nm.org\", 3. address containing \"luriechildrens.org\", and 4. any other email addresses will be added unsorted at the end.\n",
    "\n",
    "The code assumes that a person would only have one email address with each domain name.\n",
    "\n",
    "The code also removes duplicate email addresses.\n",
    "\n",
    "The notebook outputs a new csv file."
   ]
  },
  {
   "cell_type": "code",
   "execution_count": null,
   "id": "182f4036-b753-49c7-a6cd-459ac0b8ebaf",
   "metadata": {},
   "outputs": [],
   "source": [
    "input_file = \"email_addresses.csv\"\n",
    "output_file = \"preferredEmails2.csv\""
   ]
  },
  {
   "cell_type": "code",
   "execution_count": null,
   "id": "5da1754e-86b2-4b38-a48c-ba25799ebce3",
   "metadata": {},
   "outputs": [],
   "source": [
    "preferred_emails = [\"northwestern.edu\", \"nm.org\", \"luriechildrens.org\"]"
   ]
  },
  {
   "cell_type": "code",
   "execution_count": null,
   "id": "1eadb051-44d7-48fc-95f0-9ae9d6161188",
   "metadata": {},
   "outputs": [],
   "source": [
    "with open(input_file, \"r\") as f:\n",
    "    input_data = {line.split(\",\")[0]:line.rstrip(\"\\n\").split(\",\")[1:] for line in f.readlines()}"
   ]
  },
  {
   "cell_type": "code",
   "execution_count": null,
   "id": "4e258b94-dfe4-48df-bc10-2b7871162230",
   "metadata": {},
   "outputs": [],
   "source": [
    "final_dict = {}"
   ]
  },
  {
   "cell_type": "code",
   "execution_count": null,
   "id": "13d9c581-2340-45af-a918-f60357b116d9",
   "metadata": {},
   "outputs": [],
   "source": [
    "for name, email_list in input_data.items():\n",
    "    emails = [i for i in email_list if i != \"\"]\n",
    "    ordered_emails = []\n",
    "    other_emails = [e for e in emails if e.split(\"@\")[1] not in preferred_emails]\n",
    "    for p in preferred_emails:\n",
    "        for e in emails:\n",
    "            if e.split(\"@\")[1] == p:\n",
    "                ordered_emails.append(e)\n",
    "    if len(other_emails) >= 1:\n",
    "        ordered_emails = ordered_emails + other_emails\n",
    "    noDups = []\n",
    "    [noDups.append(item) for item in ordered_emails if item not in noDups]\n",
    "    final_dict[name] = noDups\n",
    "            "
   ]
  },
  {
   "cell_type": "code",
   "execution_count": null,
   "id": "38127740-ffe4-46f6-a09e-9e93a0bc2d14",
   "metadata": {},
   "outputs": [],
   "source": [
    "with open(output_file, \"w\") as f:\n",
    "    for name, email in final_dict.items():\n",
    "        f.write(f\"{name},{','.join(email)}\\n\")"
   ]
  },
  {
   "cell_type": "code",
   "execution_count": null,
   "id": "fef64287-b077-41a9-b477-e72f400f4f1a",
   "metadata": {},
   "outputs": [],
   "source": []
  }
 ],
 "metadata": {
  "kernelspec": {
   "display_name": "Python 3",
   "language": "python",
   "name": "python3"
  },
  "language_info": {
   "codemirror_mode": {
    "name": "ipython",
    "version": 3
   },
   "file_extension": ".py",
   "mimetype": "text/x-python",
   "name": "python",
   "nbconvert_exporter": "python",
   "pygments_lexer": "ipython3",
   "version": "3.7.3"
  }
 },
 "nbformat": 4,
 "nbformat_minor": 5
}
