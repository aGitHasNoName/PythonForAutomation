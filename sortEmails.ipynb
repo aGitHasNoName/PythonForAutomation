{
 "cells": [
  {
   "cell_type": "markdown",
   "id": "2260390d-dd3a-4c8a-817e-f896f1f82e9b",
   "metadata": {},
   "source": [
    "#### *If you are running this notebook on Google Colab ONLY, run the next cell:*"
   ]
  },
  {
   "cell_type": "code",
   "execution_count": null,
   "id": "f397e8d9-01b6-4c87-9677-9bc98a2148e0",
   "metadata": {},
   "outputs": [],
   "source": [
    "!wget https://raw.githubusercontent.com/aGitHasNoName/PythonForAutomation/main/email_addresses.csv"
   ]
  },
  {
   "cell_type": "markdown",
   "id": "5971b97f-c37b-4887-a525-f5788367ea50",
   "metadata": {},
   "source": [
    "### <br><br><br>sortEmails notebook\n",
    "\n",
    "This notebook takes a csv file with names in the first column, and email addresses in the remaining columns.\n",
    "\n",
    "Each person has at least one email address. Many have more than one. The email addresses are not ordered.\n",
    "\n",
    "This notebook orders the email addresses by the priority 1. any email address containing \"northwestern.edu\", 2. address containing \"nm.org\", 3. address containing \"luriechildrens.org\", and 4. any other email addresses will be added unsorted at the end.\n",
    "\n",
    "The code assumes that a person would only have one email address with each domain name.\n",
    "\n",
    "The code also removes duplicate email addresses.\n",
    "\n",
    "The notebook outputs a new csv file."
   ]
  },
  {
   "cell_type": "code",
   "execution_count": null,
   "id": "1eadb051-44d7-48fc-95f0-9ae9d6161188",
   "metadata": {},
   "outputs": [],
   "source": [
    "with open(\"email_addresses.csv\", \"r\") as f:\n",
    "    input_data = {line.split(\",\")[0]:line.rstrip(\"\\n\").split(\",\")[1:] for line in f.readlines()}"
   ]
  },
  {
   "cell_type": "code",
   "execution_count": null,
   "id": "4e258b94-dfe4-48df-bc10-2b7871162230",
   "metadata": {},
   "outputs": [],
   "source": [
    "final_dict = {}"
   ]
  },
  {
   "cell_type": "code",
   "execution_count": null,
   "id": "13d9c581-2340-45af-a918-f60357b116d9",
   "metadata": {},
   "outputs": [],
   "source": [
    "for name, email_list in input_data.items():\n",
    "    ordered_emails = [0,1,2,[]]\n",
    "    for e in email_list:\n",
    "        if \"northwestern.edu\" in e:\n",
    "            ordered_emails[0] = e\n",
    "        elif \"nm.org\" in e:\n",
    "            ordered_emails[1] = e\n",
    "        elif \"luriechildrens.org\" in e:\n",
    "            ordered_emails[2] = e\n",
    "        else:\n",
    "            ordered_emails[3].append(e)\n",
    "    if len(ordered_emails[3]) >= 1:\n",
    "        ordered_emails = ordered_emails[0:3] + ordered_emails[3]\n",
    "    else:\n",
    "        ordered_emails = ordered_emails[0:3]\n",
    "    noDups = []\n",
    "    [noDups.append(item) for item in ordered_emails if item not in noDups]\n",
    "    final_dict[name] = [i for i in noDups if type(i) != int]\n",
    "            "
   ]
  },
  {
   "cell_type": "code",
   "execution_count": null,
   "id": "38127740-ffe4-46f6-a09e-9e93a0bc2d14",
   "metadata": {},
   "outputs": [],
   "source": [
    "with open(\"preferredEmails.csv\", \"w\") as f:\n",
    "    for name, email in final_dict.items():\n",
    "        f.write(f\"{name},{','.join(email)}\\n\")"
   ]
  },
  {
   "cell_type": "code",
   "execution_count": null,
   "id": "fef64287-b077-41a9-b477-e72f400f4f1a",
   "metadata": {},
   "outputs": [],
   "source": []
  }
 ],
 "metadata": {
  "kernelspec": {
   "display_name": "Python 3",
   "language": "python",
   "name": "python3"
  },
  "language_info": {
   "codemirror_mode": {
    "name": "ipython",
    "version": 3
   },
   "file_extension": ".py",
   "mimetype": "text/x-python",
   "name": "python",
   "nbconvert_exporter": "python",
   "pygments_lexer": "ipython3",
   "version": "3.7.3"
  }
 },
 "nbformat": 4,
 "nbformat_minor": 5
}
